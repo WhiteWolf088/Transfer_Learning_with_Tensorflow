{
  "cells": [
    {
      "cell_type": "markdown",
      "metadata": {
        "id": "view-in-github",
        "colab_type": "text"
      },
      "source": [
        "<a href=\"https://colab.research.google.com/github/WhiteWolf088/Transfer_Learning_with_Tensorflow/blob/main/Transfer_Learning_Finetuning.ipynb\" target=\"_parent\"><img src=\"https://colab.research.google.com/assets/colab-badge.svg\" alt=\"Open In Colab\"/></a>"
      ]
    },
    {
      "cell_type": "markdown",
      "source": [
        "# Fine Tuning"
      ],
      "metadata": {
        "id": "gisBA-JkxfGw"
      }
    },
    {
      "cell_type": "code",
      "source": [
        "import zipfile\n",
        "!wget https://storage.googleapis.com/ztm_tf_course/food_vision/101_food_classes_10_percent.zip\n",
        "A=zipfile.ZipFile('101_food_classes_10_percent.zip')\n",
        "A.extractall()\n",
        "A.close()"
      ],
      "metadata": {
        "colab": {
          "base_uri": "https://localhost:8080/"
        },
        "id": "1PahnB7fhGMS",
        "outputId": "59e50667-5486-4afb-ffa1-cdc69784bf7c"
      },
      "execution_count": 1,
      "outputs": [
        {
          "output_type": "stream",
          "name": "stdout",
          "text": [
            "--2022-01-05 10:30:53--  https://storage.googleapis.com/ztm_tf_course/food_vision/101_food_classes_10_percent.zip\n",
            "Resolving storage.googleapis.com (storage.googleapis.com)... 209.85.147.128, 142.250.125.128, 142.250.152.128, ...\n",
            "Connecting to storage.googleapis.com (storage.googleapis.com)|209.85.147.128|:443... connected.\n",
            "HTTP request sent, awaiting response... 200 OK\n",
            "Length: 1625420029 (1.5G) [application/zip]\n",
            "Saving to: ‘101_food_classes_10_percent.zip’\n",
            "\n",
            "101_food_classes_10 100%[===================>]   1.51G   151MB/s    in 11s     \n",
            "\n",
            "2022-01-05 10:31:04 (145 MB/s) - ‘101_food_classes_10_percent.zip’ saved [1625420029/1625420029]\n",
            "\n"
          ]
        }
      ]
    },
    {
      "cell_type": "code",
      "source": [
        "import pathlib\n",
        "import numpy as np\n",
        "data_dir=pathlib.Path('101_food_classes_10_percent/train')\n",
        "class_names=np.array(sorted(item.name for item in data_dir.glob('*')))\n",
        "print(class_names)"
      ],
      "metadata": {
        "colab": {
          "base_uri": "https://localhost:8080/"
        },
        "id": "icutqcfbhdqS",
        "outputId": "6a0a7b88-b62a-4ccf-9bd0-9aa6aa7f1740"
      },
      "execution_count": 2,
      "outputs": [
        {
          "output_type": "stream",
          "name": "stdout",
          "text": [
            "['apple_pie' 'baby_back_ribs' 'baklava' 'beef_carpaccio' 'beef_tartare'\n",
            " 'beet_salad' 'beignets' 'bibimbap' 'bread_pudding' 'breakfast_burrito'\n",
            " 'bruschetta' 'caesar_salad' 'cannoli' 'caprese_salad' 'carrot_cake'\n",
            " 'ceviche' 'cheese_plate' 'cheesecake' 'chicken_curry'\n",
            " 'chicken_quesadilla' 'chicken_wings' 'chocolate_cake' 'chocolate_mousse'\n",
            " 'churros' 'clam_chowder' 'club_sandwich' 'crab_cakes' 'creme_brulee'\n",
            " 'croque_madame' 'cup_cakes' 'deviled_eggs' 'donuts' 'dumplings' 'edamame'\n",
            " 'eggs_benedict' 'escargots' 'falafel' 'filet_mignon' 'fish_and_chips'\n",
            " 'foie_gras' 'french_fries' 'french_onion_soup' 'french_toast'\n",
            " 'fried_calamari' 'fried_rice' 'frozen_yogurt' 'garlic_bread' 'gnocchi'\n",
            " 'greek_salad' 'grilled_cheese_sandwich' 'grilled_salmon' 'guacamole'\n",
            " 'gyoza' 'hamburger' 'hot_and_sour_soup' 'hot_dog' 'huevos_rancheros'\n",
            " 'hummus' 'ice_cream' 'lasagna' 'lobster_bisque' 'lobster_roll_sandwich'\n",
            " 'macaroni_and_cheese' 'macarons' 'miso_soup' 'mussels' 'nachos'\n",
            " 'omelette' 'onion_rings' 'oysters' 'pad_thai' 'paella' 'pancakes'\n",
            " 'panna_cotta' 'peking_duck' 'pho' 'pizza' 'pork_chop' 'poutine'\n",
            " 'prime_rib' 'pulled_pork_sandwich' 'ramen' 'ravioli' 'red_velvet_cake'\n",
            " 'risotto' 'samosa' 'sashimi' 'scallops' 'seaweed_salad'\n",
            " 'shrimp_and_grits' 'spaghetti_bolognese' 'spaghetti_carbonara'\n",
            " 'spring_rolls' 'steak' 'strawberry_shortcake' 'sushi' 'tacos' 'takoyaki'\n",
            " 'tiramisu' 'tuna_tartare' 'waffles']\n"
          ]
        }
      ]
    },
    {
      "cell_type": "code",
      "source": [
        "train_dir='101_food_classes_10_percent/train/'\n",
        "test_dir='101_food_classes_10_percent/test/'"
      ],
      "metadata": {
        "id": "hqgAPGaSh0iX"
      },
      "execution_count": 3,
      "outputs": []
    },
    {
      "cell_type": "code",
      "source": [
        "import tensorflow as tf\n",
        "print('Traning Data  : ')\n",
        "train_data=tf.keras.preprocessing.image_dataset_from_directory(train_dir,\n",
        "                                                               label_mode='categorical',\n",
        "                                                               image_size=(224,224))\n",
        "print('Testing Data  : ')\n",
        "test_data=tf.keras.preprocessing.image_dataset_from_directory(test_dir,\n",
        "                                                              label_mode='categorical',\n",
        "                                                              image_size=(224,224))"
      ],
      "metadata": {
        "colab": {
          "base_uri": "https://localhost:8080/"
        },
        "id": "tsVKnPLlh7rd",
        "outputId": "f9eefdc8-72e7-4c0a-dbf4-e5699ac7647c"
      },
      "execution_count": 4,
      "outputs": [
        {
          "output_type": "stream",
          "name": "stdout",
          "text": [
            "Traning Data  : \n",
            "Found 7575 files belonging to 101 classes.\n",
            "Testing Data  : \n",
            "Found 25250 files belonging to 101 classes.\n"
          ]
        }
      ]
    },
    {
      "cell_type": "code",
      "source": [
        "from tensorflow.keras.layers.experimental import preprocessing\n",
        "data_augmentation=tf.keras.models.Sequential([\n",
        "  preprocessing.RandomZoom(0.2),\n",
        "  preprocessing.RandomRotation(0.2),\n",
        "  preprocessing.RandomHeight(0.2),\n",
        "  preprocessing.RandomWidth(0.2),\n",
        "  preprocessing.RandomFlip('horizontal')\n",
        "],name='data_augmentation_layer')"
      ],
      "metadata": {
        "id": "44njIbzspQ6e"
      },
      "execution_count": 5,
      "outputs": []
    },
    {
      "cell_type": "markdown",
      "source": [
        "# Functional API"
      ],
      "metadata": {
        "id": "8kin6468xa6o"
      }
    },
    {
      "cell_type": "code",
      "source": [
        "base_model=tf.keras.applications.EfficientNetB0(include_top=False)\n",
        "base_model.trainable=False\n",
        "inputs=tf.keras.Input(shape=(224,224,3),name='input_layer')\n",
        "x=data_augmentation(inputs)\n",
        "x=base_model(x,training=False)\n",
        "x=tf.keras.layers.GlobalAveragePooling2D(name='GlobalAveragePooling2D_layer')(x)\n",
        "outputs=tf.keras.layers.Dense(101,activation='softmax',name='output_layer')(x)\n",
        "model=tf.keras.Model(inputs, outputs)"
      ],
      "metadata": {
        "colab": {
          "base_uri": "https://localhost:8080/"
        },
        "id": "yDBO30cJkdt6",
        "outputId": "dffb3fc9-238e-4cb6-ca7e-78b7b40a89d0"
      },
      "execution_count": 6,
      "outputs": [
        {
          "output_type": "stream",
          "name": "stdout",
          "text": [
            "Downloading data from https://storage.googleapis.com/keras-applications/efficientnetb0_notop.h5\n",
            "16711680/16705208 [==============================] - 0s 0us/step\n",
            "16719872/16705208 [==============================] - 0s 0us/step\n"
          ]
        }
      ]
    },
    {
      "cell_type": "code",
      "source": [
        "model.compile(loss='categorical_crossentropy',\n",
        "              optimizer=tf.keras.optimizers.Adam(),\n",
        "              metrics=['accuracy'])"
      ],
      "metadata": {
        "id": "aMZKneCYlcyV"
      },
      "execution_count": 7,
      "outputs": []
    },
    {
      "cell_type": "code",
      "source": [
        "history=model.fit(train_data,\n",
        "                  epochs=5,\n",
        "                  steps_per_epoch=len(train_data),\n",
        "                  validation_data=test_data,\n",
        "                  validation_steps=int(0.25*len(test_data)),\n",
        "                  callbacks=[tf.keras.callbacks.ModelCheckpoint('101_food_classes_10_percent_checkponts',\n",
        "                                                                save_best_only=True,\n",
        "                                                                save_weights_only=True,\n",
        "                                                                save_freq='epoch')])"
      ],
      "metadata": {
        "colab": {
          "base_uri": "https://localhost:8080/"
        },
        "id": "GAV78-mqlpNB",
        "outputId": "f6179fee-fdbe-424a-a305-443310987674"
      },
      "execution_count": 8,
      "outputs": [
        {
          "output_type": "stream",
          "name": "stdout",
          "text": [
            "Epoch 1/5\n",
            "237/237 [==============================] - 146s 550ms/step - loss: 3.4807 - accuracy: 0.2488 - val_loss: 2.4259 - val_accuracy: 0.4562\n",
            "Epoch 2/5\n",
            "237/237 [==============================] - 104s 436ms/step - loss: 2.3394 - accuracy: 0.4593 - val_loss: 1.9841 - val_accuracy: 0.5143\n",
            "Epoch 3/5\n",
            "237/237 [==============================] - 94s 395ms/step - loss: 1.9764 - accuracy: 0.5300 - val_loss: 1.8273 - val_accuracy: 0.5343\n",
            "Epoch 4/5\n",
            "237/237 [==============================] - 92s 389ms/step - loss: 1.7652 - accuracy: 0.5695 - val_loss: 1.7464 - val_accuracy: 0.5508\n",
            "Epoch 5/5\n",
            "237/237 [==============================] - 88s 369ms/step - loss: 1.5985 - accuracy: 0.6073 - val_loss: 1.6895 - val_accuracy: 0.5612\n"
          ]
        }
      ]
    },
    {
      "cell_type": "code",
      "source": [
        "model.evaluate(test_data)"
      ],
      "metadata": {
        "colab": {
          "base_uri": "https://localhost:8080/"
        },
        "id": "DK1mhLDimayL",
        "outputId": "d865f530-c0b3-4395-de3d-4d776cc68b87"
      },
      "execution_count": 9,
      "outputs": [
        {
          "output_type": "stream",
          "name": "stdout",
          "text": [
            "790/790 [==============================] - 105s 133ms/step - loss: 1.7098 - accuracy: 0.5551\n"
          ]
        },
        {
          "output_type": "execute_result",
          "data": {
            "text/plain": [
              "[1.709842562675476, 0.5551286935806274]"
            ]
          },
          "metadata": {},
          "execution_count": 9
        }
      ]
    },
    {
      "cell_type": "code",
      "source": [
        "!wget https://raw.githubusercontent.com/WhiteWolf088/SomeHelperFunctions_TensorFlow/main/All_Functions_in_onefile_to_import.py"
      ],
      "metadata": {
        "colab": {
          "base_uri": "https://localhost:8080/"
        },
        "id": "RfvhPCHarsPZ",
        "outputId": "2f3badce-5bbe-428f-ed72-118ff1fa6755"
      },
      "execution_count": 10,
      "outputs": [
        {
          "output_type": "stream",
          "name": "stdout",
          "text": [
            "--2022-01-05 10:43:14--  https://raw.githubusercontent.com/WhiteWolf088/SomeHelperFunctions_TensorFlow/main/All_Functions_in_onefile_to_import.py\n",
            "Resolving raw.githubusercontent.com (raw.githubusercontent.com)... 185.199.108.133, 185.199.109.133, 185.199.110.133, ...\n",
            "Connecting to raw.githubusercontent.com (raw.githubusercontent.com)|185.199.108.133|:443... connected.\n",
            "HTTP request sent, awaiting response... 200 OK\n",
            "Length: 10246 (10K) [text/plain]\n",
            "Saving to: ‘All_Functions_in_onefile_to_import.py’\n",
            "\n",
            "All_Functions_in_on 100%[===================>]  10.01K  --.-KB/s    in 0s      \n",
            "\n",
            "2022-01-05 10:43:14 (73.5 MB/s) - ‘All_Functions_in_onefile_to_import.py’ saved [10246/10246]\n",
            "\n"
          ]
        }
      ]
    },
    {
      "cell_type": "code",
      "source": [
        "from All_Functions_in_onefile_to_import import plot_loss_curves, compare_historys\n",
        "plot_loss_curves(history)"
      ],
      "metadata": {
        "colab": {
          "base_uri": "https://localhost:8080/",
          "height": 573
        },
        "id": "VBav2mEDmoKi",
        "outputId": "af852e58-186c-48aa-8ff7-e72bafcd19ce"
      },
      "execution_count": 11,
      "outputs": [
        {
          "output_type": "display_data",
          "data": {
            "image/png": "[encoded data removed]",
            "text/plain": [
              "<Figure size 432x288 with 1 Axes>"
            ]
          },
          "metadata": {
            "needs_background": "light"
          }
        },
        {
          "output_type": "display_data",
          "data": {
            "image/png": "[encoded data removed]",
            "text/plain": [
              "<Figure size 432x288 with 1 Axes>"
            ]
          },
          "metadata": {
            "needs_background": "light"
          }
        }
      ]
    },
    {
      "cell_type": "markdown",
      "source": [
        "## Unfreezing last 10 layers in base_model"
      ],
      "metadata": {
        "id": "PSusUkPLxk0H"
      }
    },
    {
      "cell_type": "code",
      "source": [
        "base_model.trainable=True\n",
        "for layer in base_model.layers[:-10]:\n",
        "  base_model.trainable=False"
      ],
      "metadata": {
        "id": "3vPIHw0mq1Nc"
      },
      "execution_count": 12,
      "outputs": []
    },
    {
      "cell_type": "code",
      "source": [
        "model.compile(loss='categorical_crossentropy',\n",
        "              optimizer=tf.keras.optimizers.Adam(0.0001),\n",
        "              metrics=['accuracy'])"
      ],
      "metadata": {
        "id": "EH70flj6rH4s"
      },
      "execution_count": 13,
      "outputs": []
    },
    {
      "cell_type": "code",
      "source": [
        "finetune_history=model.fit(train_data,\n",
        "                           epochs=10,\n",
        "                           initial_epoch=5,\n",
        "                           steps_per_epoch=len(train_data),\n",
        "                           validation_data=test_data,\n",
        "                           validation_steps=int(0.25*len(test_data)),\n",
        "                           callbacks=[tf.keras.callbacks.ModelCheckpoint('101_food_classes_10_percent_checkponts',\n",
        "                                                                          save_best_only=True,\n",
        "                                                                          save_weights_only=True,\n",
        "                                                                          save_freq='epoch')])"
      ],
      "metadata": {
        "colab": {
          "base_uri": "https://localhost:8080/"
        },
        "id": "djylsUDkrarw",
        "outputId": "4da32961-69d7-4e3a-8410-a62a5281766f"
      },
      "execution_count": 14,
      "outputs": [
        {
          "output_type": "stream",
          "name": "stdout",
          "text": [
            "Epoch 6/10\n",
            "237/237 [==============================] - 95s 369ms/step - loss: 1.4346 - accuracy: 0.6573 - val_loss: 1.6657 - val_accuracy: 0.5676\n",
            "Epoch 7/10\n",
            "237/237 [==============================] - 81s 342ms/step - loss: 1.4042 - accuracy: 0.6643 - val_loss: 1.6541 - val_accuracy: 0.5701\n",
            "Epoch 8/10\n",
            "237/237 [==============================] - 78s 328ms/step - loss: 1.3953 - accuracy: 0.6672 - val_loss: 1.6507 - val_accuracy: 0.5734\n",
            "Epoch 9/10\n",
            "237/237 [==============================] - 79s 333ms/step - loss: 1.3676 - accuracy: 0.6760 - val_loss: 1.6487 - val_accuracy: 0.5727\n",
            "Epoch 10/10\n",
            "237/237 [==============================] - 76s 320ms/step - loss: 1.3670 - accuracy: 0.6717 - val_loss: 1.6470 - val_accuracy: 0.5709\n"
          ]
        }
      ]
    },
    {
      "cell_type": "code",
      "source": [
        "model.evaluate(test_data)"
      ],
      "metadata": {
        "colab": {
          "base_uri": "https://localhost:8080/"
        },
        "id": "Jj2yn_0OvSmT",
        "outputId": "7a203200-6c5b-49ff-9812-d89d66fc4501"
      },
      "execution_count": 15,
      "outputs": [
        {
          "output_type": "stream",
          "name": "stdout",
          "text": [
            "790/790 [==============================] - 105s 132ms/step - loss: 1.6657 - accuracy: 0.5636\n"
          ]
        },
        {
          "output_type": "execute_result",
          "data": {
            "text/plain": [
              "[1.6656912565231323, 0.563603937625885]"
            ]
          },
          "metadata": {},
          "execution_count": 15
        }
      ]
    },
    {
      "cell_type": "code",
      "source": [
        "compare_historys(history,finetune_history)"
      ],
      "metadata": {
        "colab": {
          "base_uri": "https://localhost:8080/",
          "height": 513
        },
        "id": "RcyaEtY-tP5Q",
        "outputId": "ea8a66bc-2220-4927-a486-ce848d7c7e88"
      },
      "execution_count": 16,
      "outputs": [
        {
          "output_type": "display_data",
          "data": {
            "image/png": "[encoded data removed]",
            "text/plain": [
              "<Figure size 576x576 with 2 Axes>"
            ]
          },
          "metadata": {
            "needs_background": "light"
          }
        }
      ]
    },
    {
      "cell_type": "code",
      "source": [
        "model.save('Food_101_10_percent_data trained model.h5')"
      ],
      "metadata": {
        "colab": {
          "base_uri": "https://localhost:8080/"
        },
        "id": "M5ivS-WO3ikU",
        "outputId": "44c0626f-0ece-4209-bd31-2f47bcf8528c"
      },
      "execution_count": 17,
      "outputs": [
        {
          "output_type": "stream",
          "name": "stderr",
          "text": [
            "/usr/local/lib/python3.7/dist-packages/keras/engine/functional.py:1410: CustomMaskWarning: Custom mask layers require a config and must override get_config. When loading, the custom mask layer must be passed to the custom_objects argument.\n",
            "  layer_config = serialize_layer_fn(layer)\n"
          ]
        }
      ]
    },
    {
      "cell_type": "markdown",
      "source": [
        "> * For next process see transfer learning scaling up notebook:"
      ],
      "metadata": {
        "id": "iUINAUEgxvq3"
      }
    }
  ],
  "metadata": {
    "accelerator": "GPU",
    "colab": {
      "name": "Transfer Learning Finetuning.ipynb",
      "provenance": [],
      "collapsed_sections": [],
      "authorship_tag": "ABX9TyNub3V9INxuuPt4IIRcpR97",
      "include_colab_link": true
    },
    "kernelspec": {
      "display_name": "Python 3",
      "name": "python3"
    },
    "language_info": {
      "name": "python"
    }
  },
  "nbformat": 4,
  "nbformat_minor": 0
}